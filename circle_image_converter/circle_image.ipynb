{
 "cells": [
  {
   "cell_type": "code",
   "execution_count": 7,
   "id": "df13d8a4-a15a-451b-b7d3-1ad45e0f56b3",
   "metadata": {},
   "outputs": [],
   "source": [
    "from PIL import Image, ImageDraw"
   ]
  },
  {
   "cell_type": "code",
   "execution_count": 8,
   "id": "a6706e67-aea9-464a-b333-7716ba904072",
   "metadata": {},
   "outputs": [],
   "source": [
    "# Ruta de la imagen original\n",
    "ruta_imagen = \"/Users/stam/Documents/Documents_MacBook_Eduardo/GitHub/python_notes/circle_image_converter/IMG_0801.jpeg\""
   ]
  },
  {
   "cell_type": "code",
   "execution_count": 9,
   "id": "f11109b4-0aea-4331-96f7-1194677807da",
   "metadata": {},
   "outputs": [],
   "source": [
    "# Abrir la imagen original\n",
    "imagen_original = Image.open(ruta_imagen)\n",
    "\n",
    "# Determinar el tamaño del cuadrado más grande posible dentro de la imagen original\n",
    "lado_cuadrado = min(imagen_original.size)  # Dimensión mínima entre ancho y alto\n",
    "\n",
    "# Recortar la imagen al área cuadrada centrada\n",
    "ancho, alto = imagen_original.size\n",
    "izquierda = (ancho - lado_cuadrado) // 2\n",
    "superior = (alto - lado_cuadrado) // 2\n",
    "derecha = izquierda + lado_cuadrado\n",
    "inferior = superior + lado_cuadrado\n",
    "imagen_cuadrada = imagen_original.crop((izquierda, superior, derecha, inferior))"
   ]
  },
  {
   "cell_type": "code",
   "execution_count": 10,
   "id": "71bc3b3c-2781-46ac-ad8f-7d5ed6857d56",
   "metadata": {},
   "outputs": [],
   "source": [
    "# Crear una máscara circular\n",
    "mascara = Image.new(\"L\", (lado_cuadrado, lado_cuadrado), 0)  # 'L' crea una máscara en escala de grises\n",
    "dibujar_mascara = ImageDraw.Draw(mascara)\n",
    "dibujar_mascara.ellipse((0, 0, lado_cuadrado, lado_cuadrado), fill=255)  # Dibujar un círculo blanco sobre fondo negro\n",
    "\n",
    "# Aplicar la máscara para dejar solo el área dentro del círculo y recortar lo demás\n",
    "imagen_circular = Image.new(\"RGBA\", (lado_cuadrado, lado_cuadrado), (0, 0, 0, 0))  # Fondo transparente\n",
    "imagen_circular.paste(imagen_cuadrada, (0, 0), mask=mascara)  # Aplicar la máscara\n",
    "\n",
    "# Redimensionar la imagen a 240x240 píxeles\n",
    "imagen_final = imagen_circular.resize((240, 240), Image.Resampling.LANCZOS)"
   ]
  },
  {
   "cell_type": "code",
   "execution_count": 11,
   "id": "fb68e0b5-7e75-4d61-874b-bac51c2110f8",
   "metadata": {},
   "outputs": [
    {
     "name": "stdout",
     "output_type": "stream",
     "text": [
      "Imagen circular recortada creada y guardada en imagen_circular_recortada_240x240.png\n"
     ]
    }
   ],
   "source": [
    "# Guardar la imagen resultante\n",
    "ruta_guardado = \"imagen_circular_recortada_240x240.png\"\n",
    "imagen_final.save(ruta_guardado)\n",
    "\n",
    "print(f\"Imagen circular recortada creada y guardada en {ruta_guardado}\")"
   ]
  }
 ],
 "metadata": {
  "kernelspec": {
   "display_name": "Python 3 (ipykernel)",
   "language": "python",
   "name": "python3"
  },
  "language_info": {
   "codemirror_mode": {
    "name": "ipython",
    "version": 3
   },
   "file_extension": ".py",
   "mimetype": "text/x-python",
   "name": "python",
   "nbconvert_exporter": "python",
   "pygments_lexer": "ipython3",
   "version": "3.12.2"
  }
 },
 "nbformat": 4,
 "nbformat_minor": 5
}
