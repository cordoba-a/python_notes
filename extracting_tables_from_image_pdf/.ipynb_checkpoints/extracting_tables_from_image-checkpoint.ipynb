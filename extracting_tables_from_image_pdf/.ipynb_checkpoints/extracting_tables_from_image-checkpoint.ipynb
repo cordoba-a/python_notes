{
 "cells": [
  {
   "cell_type": "code",
   "execution_count": 27,
   "id": "a85349e3-ce0d-4103-9abb-b30cba16e3fd",
   "metadata": {},
   "outputs": [],
   "source": [
    "#pip install pytesseract pillow pandas\n",
    "#pip3 install pytesseract pillow pandas\n",
    "#brew install tesseract"
   ]
  },
  {
   "cell_type": "code",
   "execution_count": 28,
   "id": "5603cfeb-3e3f-4303-898d-b9015c2d4486",
   "metadata": {},
   "outputs": [],
   "source": [
    "import pytesseract\n",
    "from PIL import Image\n",
    "import pandas as pd\n",
    "import re"
   ]
  },
  {
   "cell_type": "code",
   "execution_count": 29,
   "id": "5be15246-2251-41eb-906b-6b194c3412a0",
   "metadata": {},
   "outputs": [
    {
     "data": {
      "text/plain": [
       "'244020028 = BRETON NICASIO DIEGO ALEJANDRO\\n244020007 | CARREON ROSALES MARGARITA\\n244020022 + CHAVEZ MARTINEZ JESUS OSIEL\\n244020001 | CONTRERAS RAMOS OSCAR ALBERTO\\n244020003 ~ DELA GUERRA GUERRERO TANIA ESTEFANNY\\n244020018 DIAZ BRIONES BRISA\\n\\n244020026 DIAZ CRISTOBAL LUIS FERNANDO\\n244020021 | DURAN FLORES VALERIA ALEJANDRA\\n244020020 ELIZALDE PEREZ ALINA\\n\\n244020014 GARCIA MOTA ALINE VIOLETA\\n\\n244020002 GUTIERREZ TAPIA ANDREA ITZEL\\n244020025 = HERNANDEZ RAMIREZ JOSE MIGUEL\\n244020019 | HERNANDEZ RAMIREZ JUAN DANIEL\\n244020027 + JUAREZ CUNA LEONARDO\\n\\n244020004 = LOPEZ HERNANDEZ RUTH\\n\\n244020013 = LOPEZ ORTEGA CRISTIAN\\n\\n244020024 = LORENZO LIRA KATHYA\\n\\n244020009 | LUNA AMBROSIO KEVIN YAEL\\n\\n244020010 | MANZANO RAMIREZ DIEGO EMILIO\\n244020016 | MATIAS DIONISIO JOSSELINE\\n\\n244020012 = PANTOJA HERNANDEZ DANIELA SARAHY\\n244020030 PEREZ ROCHA KENIA LIZETH\\n\\n244020006 RIVERA VALENCIA CLAUDIA YADIRA\\n244020011 RODRIGUEZ DE PABLO LILIA XIMENA\\n244020005 SANCHEZ BARBOSA FRIDA MABEL.\\n244020017 = SANCHEZ MUNOZ VALERIA\\n\\n244020008 | SANTOS TORRES JUAN ALBERTO\\n244020023 SIERRA MENDOZA VALENTIN\\n\\n244020015 VALENCIA ESPINO JETXIA JOCABHET\\n244020029 VALLE SOSA ANDREA PAOLA\\n'"
      ]
     },
     "execution_count": 29,
     "metadata": {},
     "output_type": "execute_result"
    }
   ],
   "source": [
    "# Ruta de la imagen subida\n",
    "image_path = \"/Users/stam/Documents/Documents_MacBook_Eduardo/GitHub/python_notes/extracting_tables_from_image_pdf/lista_1A11.png\"\n",
    "\n",
    "# Extraer texto de la imagen usando pytesseract\n",
    "image = Image.open(image_path)\n",
    "text = pytesseract.image_to_string(image)\n",
    "\n",
    "# Mostrar el texto extraído (para referencia)\n",
    "text"
   ]
  },
  {
   "cell_type": "code",
   "execution_count": 30,
   "id": "900f9226-473c-40fe-bdf4-096f3bcf262f",
   "metadata": {},
   "outputs": [],
   "source": [
    "def separar_matricula_nombre(text):\n",
    "    \"\"\"Separa matrículas y nombres de un texto con formato irregular.\n",
    "\n",
    "    Args:\n",
    "        texto: Cadena de texto con múltiples líneas de datos.\n",
    "\n",
    "    Returns:\n",
    "        Lista de tuplas, donde cada tupla contiene la matrícula y el nombre.\n",
    "    \"\"\"\n",
    "\n",
    "    resultados = []\n",
    "    for linea in text.splitlines():\n",
    "        # Eliminar caracteres no deseados\n",
    "        linea_limpia = re.sub(r\"[^\\w\\s]\", \"\", linea)\n",
    "        # Dividir la línea por el primer espacio\n",
    "        partes = linea_limpia.split(\" \", 1)\n",
    "        if len(partes) == 2:\n",
    "            matricula, nombre = partes\n",
    "            resultados.append((matricula, nombre))\n",
    "    return resultados\n",
    " "
   ]
  },
  {
   "cell_type": "code",
   "execution_count": 31,
   "id": "65a16435-52ec-4d18-a428-e21d5a4af1c3",
   "metadata": {},
   "outputs": [
    {
     "name": "stdout",
     "output_type": "stream",
     "text": [
      "[('244020028', ' BRETON NICASIO DIEGO ALEJANDRO'), ('244020007', ' CARREON ROSALES MARGARITA'), ('244020022', ' CHAVEZ MARTINEZ JESUS OSIEL'), ('244020001', ' CONTRERAS RAMOS OSCAR ALBERTO'), ('244020003', ' DELA GUERRA GUERRERO TANIA ESTEFANNY'), ('244020018', 'DIAZ BRIONES BRISA'), ('244020026', 'DIAZ CRISTOBAL LUIS FERNANDO'), ('244020021', ' DURAN FLORES VALERIA ALEJANDRA'), ('244020020', 'ELIZALDE PEREZ ALINA'), ('244020014', 'GARCIA MOTA ALINE VIOLETA'), ('244020002', 'GUTIERREZ TAPIA ANDREA ITZEL'), ('244020025', ' HERNANDEZ RAMIREZ JOSE MIGUEL'), ('244020019', ' HERNANDEZ RAMIREZ JUAN DANIEL'), ('244020027', ' JUAREZ CUNA LEONARDO'), ('244020004', ' LOPEZ HERNANDEZ RUTH'), ('244020013', ' LOPEZ ORTEGA CRISTIAN'), ('244020024', ' LORENZO LIRA KATHYA'), ('244020009', ' LUNA AMBROSIO KEVIN YAEL'), ('244020010', ' MANZANO RAMIREZ DIEGO EMILIO'), ('244020016', ' MATIAS DIONISIO JOSSELINE'), ('244020012', ' PANTOJA HERNANDEZ DANIELA SARAHY'), ('244020030', 'PEREZ ROCHA KENIA LIZETH'), ('244020006', 'RIVERA VALENCIA CLAUDIA YADIRA'), ('244020011', 'RODRIGUEZ DE PABLO LILIA XIMENA'), ('244020005', 'SANCHEZ BARBOSA FRIDA MABEL'), ('244020017', ' SANCHEZ MUNOZ VALERIA'), ('244020008', ' SANTOS TORRES JUAN ALBERTO'), ('244020023', 'SIERRA MENDOZA VALENTIN'), ('244020015', 'VALENCIA ESPINO JETXIA JOCABHET'), ('244020029', 'VALLE SOSA ANDREA PAOLA')]\n"
     ]
    }
   ],
   "source": [
    "datos = separar_matricula_nombre(text)\n",
    "print(datos)"
   ]
  },
  {
   "cell_type": "code",
   "execution_count": 32,
   "id": "9ac78a85-cc8f-4946-96c9-4feb530ca74b",
   "metadata": {},
   "outputs": [],
   "source": [
    "matriculas = []\n",
    "nombres = []\n",
    "\n",
    "for matricula, nombre in datos:\n",
    "    matriculas.append(matricula)\n",
    "    nombres.append(nombre.strip())  # Eliminamos espacios al inicio del nombre"
   ]
  },
  {
   "cell_type": "code",
   "execution_count": 33,
   "id": "d380a575-b89a-4e0c-96f7-34493bb893bf",
   "metadata": {},
   "outputs": [
    {
     "name": "stdout",
     "output_type": "stream",
     "text": [
      "['BRETON NICASIO DIEGO ALEJANDRO', 'CARREON ROSALES MARGARITA', 'CHAVEZ MARTINEZ JESUS OSIEL', 'CONTRERAS RAMOS OSCAR ALBERTO', 'DELA GUERRA GUERRERO TANIA ESTEFANNY', 'DIAZ BRIONES BRISA', 'DIAZ CRISTOBAL LUIS FERNANDO', 'DURAN FLORES VALERIA ALEJANDRA', 'ELIZALDE PEREZ ALINA', 'GARCIA MOTA ALINE VIOLETA', 'GUTIERREZ TAPIA ANDREA ITZEL', 'HERNANDEZ RAMIREZ JOSE MIGUEL', 'HERNANDEZ RAMIREZ JUAN DANIEL', 'JUAREZ CUNA LEONARDO', 'LOPEZ HERNANDEZ RUTH', 'LOPEZ ORTEGA CRISTIAN', 'LORENZO LIRA KATHYA', 'LUNA AMBROSIO KEVIN YAEL', 'MANZANO RAMIREZ DIEGO EMILIO', 'MATIAS DIONISIO JOSSELINE', 'PANTOJA HERNANDEZ DANIELA SARAHY', 'PEREZ ROCHA KENIA LIZETH', 'RIVERA VALENCIA CLAUDIA YADIRA', 'RODRIGUEZ DE PABLO LILIA XIMENA', 'SANCHEZ BARBOSA FRIDA MABEL', 'SANCHEZ MUNOZ VALERIA', 'SANTOS TORRES JUAN ALBERTO', 'SIERRA MENDOZA VALENTIN', 'VALENCIA ESPINO JETXIA JOCABHET', 'VALLE SOSA ANDREA PAOLA']\n"
     ]
    }
   ],
   "source": [
    "print(nombres)"
   ]
  },
  {
   "cell_type": "code",
   "execution_count": 34,
   "id": "864964af-b33a-4dcc-89af-82086b9a5c30",
   "metadata": {},
   "outputs": [
    {
     "name": "stdout",
     "output_type": "stream",
     "text": [
      "['244020028', '244020007', '244020022', '244020001', '244020003', '244020018', '244020026', '244020021', '244020020', '244020014', '244020002', '244020025', '244020019', '244020027', '244020004', '244020013', '244020024', '244020009', '244020010', '244020016', '244020012', '244020030', '244020006', '244020011', '244020005', '244020017', '244020008', '244020023', '244020015', '244020029']\n"
     ]
    }
   ],
   "source": [
    "print(matriculas)"
   ]
  },
  {
   "cell_type": "code",
   "execution_count": 35,
   "id": "6453e1d8-d785-4426-86e6-3fded7b52a0c",
   "metadata": {},
   "outputs": [
    {
     "name": "stdout",
     "output_type": "stream",
     "text": [
      "    Matrícula\n",
      "0   244020028\n",
      "1   244020007\n",
      "2   244020022\n",
      "3   244020001\n",
      "4   244020003\n",
      "5   244020018\n",
      "6   244020026\n",
      "7   244020021\n",
      "8   244020020\n",
      "9   244020014\n",
      "10  244020002\n",
      "11  244020025\n",
      "12  244020019\n",
      "13  244020027\n",
      "14  244020004\n",
      "15  244020013\n",
      "16  244020024\n",
      "17  244020009\n",
      "18  244020010\n",
      "19  244020016\n",
      "20  244020012\n",
      "21  244020030\n",
      "22  244020006\n",
      "23  244020011\n",
      "24  244020005\n",
      "25  244020017\n",
      "26  244020008\n",
      "27  244020023\n",
      "28  244020015\n",
      "29  244020029\n"
     ]
    }
   ],
   "source": [
    "# Crear un DataFrame\n",
    "df_matricula = pd.DataFrame(matriculas, columns=[\"Matrícula\"])\n",
    "# Mostrar el DataFrame\n",
    "print(df_matricula)"
   ]
  },
  {
   "cell_type": "code",
   "execution_count": 36,
   "id": "bd33a28f-42a5-4732-9721-416294156c11",
   "metadata": {},
   "outputs": [
    {
     "name": "stdout",
     "output_type": "stream",
     "text": [
      "                           Nombre alumno\n",
      "0         BRETON NICASIO DIEGO ALEJANDRO\n",
      "1              CARREON ROSALES MARGARITA\n",
      "2            CHAVEZ MARTINEZ JESUS OSIEL\n",
      "3          CONTRERAS RAMOS OSCAR ALBERTO\n",
      "4   DELA GUERRA GUERRERO TANIA ESTEFANNY\n",
      "5                     DIAZ BRIONES BRISA\n",
      "6           DIAZ CRISTOBAL LUIS FERNANDO\n",
      "7         DURAN FLORES VALERIA ALEJANDRA\n",
      "8                   ELIZALDE PEREZ ALINA\n",
      "9              GARCIA MOTA ALINE VIOLETA\n",
      "10          GUTIERREZ TAPIA ANDREA ITZEL\n",
      "11         HERNANDEZ RAMIREZ JOSE MIGUEL\n",
      "12         HERNANDEZ RAMIREZ JUAN DANIEL\n",
      "13                  JUAREZ CUNA LEONARDO\n",
      "14                  LOPEZ HERNANDEZ RUTH\n",
      "15                 LOPEZ ORTEGA CRISTIAN\n",
      "16                   LORENZO LIRA KATHYA\n",
      "17              LUNA AMBROSIO KEVIN YAEL\n",
      "18          MANZANO RAMIREZ DIEGO EMILIO\n",
      "19             MATIAS DIONISIO JOSSELINE\n",
      "20      PANTOJA HERNANDEZ DANIELA SARAHY\n",
      "21              PEREZ ROCHA KENIA LIZETH\n",
      "22        RIVERA VALENCIA CLAUDIA YADIRA\n",
      "23       RODRIGUEZ DE PABLO LILIA XIMENA\n",
      "24           SANCHEZ BARBOSA FRIDA MABEL\n",
      "25                 SANCHEZ MUNOZ VALERIA\n",
      "26            SANTOS TORRES JUAN ALBERTO\n",
      "27               SIERRA MENDOZA VALENTIN\n",
      "28       VALENCIA ESPINO JETXIA JOCABHET\n",
      "29               VALLE SOSA ANDREA PAOLA\n"
     ]
    }
   ],
   "source": [
    "# Crear el DataFrame\n",
    "df_nombres = pd.DataFrame(nombres, columns=[\"Nombre alumno\"])\n",
    "# Mostrar el DataFrame\n",
    "print(df_nombres)"
   ]
  },
  {
   "cell_type": "code",
   "execution_count": 37,
   "id": "85297f1f-9ff0-4a62-80d3-77b5ecf86cfb",
   "metadata": {},
   "outputs": [
    {
     "name": "stdout",
     "output_type": "stream",
     "text": [
      "    Matrícula                         Nombre alumno\n",
      "0   244020028        BRETON NICASIO DIEGO ALEJANDRO\n",
      "1   244020007             CARREON ROSALES MARGARITA\n",
      "2   244020022           CHAVEZ MARTINEZ JESUS OSIEL\n",
      "3   244020001         CONTRERAS RAMOS OSCAR ALBERTO\n",
      "4   244020003  DELA GUERRA GUERRERO TANIA ESTEFANNY\n",
      "5   244020018                    DIAZ BRIONES BRISA\n",
      "6   244020026          DIAZ CRISTOBAL LUIS FERNANDO\n",
      "7   244020021        DURAN FLORES VALERIA ALEJANDRA\n",
      "8   244020020                  ELIZALDE PEREZ ALINA\n",
      "9   244020014             GARCIA MOTA ALINE VIOLETA\n",
      "10  244020002          GUTIERREZ TAPIA ANDREA ITZEL\n",
      "11  244020025         HERNANDEZ RAMIREZ JOSE MIGUEL\n",
      "12  244020019         HERNANDEZ RAMIREZ JUAN DANIEL\n",
      "13  244020027                  JUAREZ CUNA LEONARDO\n",
      "14  244020004                  LOPEZ HERNANDEZ RUTH\n",
      "15  244020013                 LOPEZ ORTEGA CRISTIAN\n",
      "16  244020024                   LORENZO LIRA KATHYA\n",
      "17  244020009              LUNA AMBROSIO KEVIN YAEL\n",
      "18  244020010          MANZANO RAMIREZ DIEGO EMILIO\n",
      "19  244020016             MATIAS DIONISIO JOSSELINE\n",
      "20  244020012      PANTOJA HERNANDEZ DANIELA SARAHY\n",
      "21  244020030              PEREZ ROCHA KENIA LIZETH\n",
      "22  244020006        RIVERA VALENCIA CLAUDIA YADIRA\n",
      "23  244020011       RODRIGUEZ DE PABLO LILIA XIMENA\n",
      "24  244020005           SANCHEZ BARBOSA FRIDA MABEL\n",
      "25  244020017                 SANCHEZ MUNOZ VALERIA\n",
      "26  244020008            SANTOS TORRES JUAN ALBERTO\n",
      "27  244020023               SIERRA MENDOZA VALENTIN\n",
      "28  244020015       VALENCIA ESPINO JETXIA JOCABHET\n",
      "29  244020029               VALLE SOSA ANDREA PAOLA\n"
     ]
    }
   ],
   "source": [
    "df = pd.concat([df_matricula, df_nombres], axis=1)\n",
    "# Mostrar el DataFrame resultante\n",
    "print(df)"
   ]
  },
  {
   "cell_type": "code",
   "execution_count": 38,
   "id": "4b9e6be1-18db-4c59-972d-614647c050d1",
   "metadata": {},
   "outputs": [
    {
     "name": "stdout",
     "output_type": "stream",
     "text": [
      "    No.  Matrícula                         Nombre alumno\n",
      "0     1  244020028        BRETON NICASIO DIEGO ALEJANDRO\n",
      "1     2  244020007             CARREON ROSALES MARGARITA\n",
      "2     3  244020022           CHAVEZ MARTINEZ JESUS OSIEL\n",
      "3     4  244020001         CONTRERAS RAMOS OSCAR ALBERTO\n",
      "4     5  244020003  DELA GUERRA GUERRERO TANIA ESTEFANNY\n",
      "5     6  244020018                    DIAZ BRIONES BRISA\n",
      "6     7  244020026          DIAZ CRISTOBAL LUIS FERNANDO\n",
      "7     8  244020021        DURAN FLORES VALERIA ALEJANDRA\n",
      "8     9  244020020                  ELIZALDE PEREZ ALINA\n",
      "9    10  244020014             GARCIA MOTA ALINE VIOLETA\n",
      "10   11  244020002          GUTIERREZ TAPIA ANDREA ITZEL\n",
      "11   12  244020025         HERNANDEZ RAMIREZ JOSE MIGUEL\n",
      "12   13  244020019         HERNANDEZ RAMIREZ JUAN DANIEL\n",
      "13   14  244020027                  JUAREZ CUNA LEONARDO\n",
      "14   15  244020004                  LOPEZ HERNANDEZ RUTH\n",
      "15   16  244020013                 LOPEZ ORTEGA CRISTIAN\n",
      "16   17  244020024                   LORENZO LIRA KATHYA\n",
      "17   18  244020009              LUNA AMBROSIO KEVIN YAEL\n",
      "18   19  244020010          MANZANO RAMIREZ DIEGO EMILIO\n",
      "19   20  244020016             MATIAS DIONISIO JOSSELINE\n",
      "20   21  244020012      PANTOJA HERNANDEZ DANIELA SARAHY\n",
      "21   22  244020030              PEREZ ROCHA KENIA LIZETH\n",
      "22   23  244020006        RIVERA VALENCIA CLAUDIA YADIRA\n",
      "23   24  244020011       RODRIGUEZ DE PABLO LILIA XIMENA\n",
      "24   25  244020005           SANCHEZ BARBOSA FRIDA MABEL\n",
      "25   26  244020017                 SANCHEZ MUNOZ VALERIA\n",
      "26   27  244020008            SANTOS TORRES JUAN ALBERTO\n",
      "27   28  244020023               SIERRA MENDOZA VALENTIN\n",
      "28   29  244020015       VALENCIA ESPINO JETXIA JOCABHET\n",
      "29   30  244020029               VALLE SOSA ANDREA PAOLA\n"
     ]
    }
   ],
   "source": [
    "# Agregar la columna \"No.\" con números consecutivos (1, 2, 3, ...)\n",
    "df.insert(0, 'No.', range(1, len(df) + 1))\n",
    "# Mostrar el DataFrame resultante\n",
    "print(df)"
   ]
  },
  {
   "cell_type": "code",
   "execution_count": 39,
   "id": "4e699d90-2139-40d5-a960-32c103cf52a3",
   "metadata": {},
   "outputs": [
    {
     "name": "stdout",
     "output_type": "stream",
     "text": [
      "DataFrame guardado en datos_extraidos.csv\n"
     ]
    }
   ],
   "source": [
    "# Guardar el DataFrame en un archivo CSV\n",
    "df.to_csv('datos_extraidos.csv', index=False)\n",
    "\n",
    "print(\"DataFrame guardado en datos_extraidos.csv\")"
   ]
  }
 ],
 "metadata": {
  "kernelspec": {
   "display_name": "Python 3 (ipykernel)",
   "language": "python",
   "name": "python3"
  },
  "language_info": {
   "codemirror_mode": {
    "name": "ipython",
    "version": 3
   },
   "file_extension": ".py",
   "mimetype": "text/x-python",
   "name": "python",
   "nbconvert_exporter": "python",
   "pygments_lexer": "ipython3",
   "version": "3.12.2"
  }
 },
 "nbformat": 4,
 "nbformat_minor": 5
}
