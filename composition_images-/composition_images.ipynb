{
 "cells": [
  {
   "cell_type": "code",
   "execution_count": 32,
   "metadata": {},
   "outputs": [],
   "source": [
    "# pip install ipykernel\n",
    "# pip install pillow"
   ]
  },
  {
   "cell_type": "code",
   "execution_count": 33,
   "metadata": {},
   "outputs": [],
   "source": [
    "from PIL import Image"
   ]
  },
  {
   "cell_type": "code",
   "execution_count": 34,
   "metadata": {},
   "outputs": [],
   "source": [
    "# Lista de rutas de las imágenes que quieres combinar\n",
    "imagenes = [\"/Users/stam/Documents/Documents_MacBook_Eduardo/GitHub/python_notes/composition_images/image/paraphidippus_aurantius.jpeg\", \n",
    "            \"/Users/stam/Documents/Documents_MacBook_Eduardo/GitHub/python_notes/composition_images/image/menemerus_bivittatus.jpeg\", \n",
    "            \"/Users/stam/Documents/Documents_MacBook_Eduardo/GitHub/python_notes/composition_images/image/phidippus_audax.jpg\", \n",
    "            \"/Users/stam/Documents/Documents_MacBook_Eduardo/GitHub/python_notes/composition_images/image/habronattus_mexicanus.jpg\", \n",
    "            \"/Users/stam/Documents/Documents_MacBook_Eduardo/GitHub/python_notes/composition_images/image/phidippus_maddisoni.jpeg\"\n",
    "            ]"
   ]
  },
  {
   "cell_type": "code",
   "execution_count": null,
   "metadata": {},
   "outputs": [],
   "source": []
  },
  {
   "cell_type": "code",
   "execution_count": 35,
   "metadata": {},
   "outputs": [],
   "source": [
    "# se crea una lista vacía llamada imagenes_cargadas que servirá para almacenar las imágenes que se logren cargar correctamente\n",
    "imagenes_cargadas = []\n",
    "# el bucle recorre cada elemento de la lista imagenes\n",
    "# cada elemento de la lista se asigna a la variable img en cada iteración del bucle\n",
    "for img in imagenes:\n",
    "# try: se utiliza para intentar ejecutar un bloque de código que podría generar un error\n",
    "    try:\n",
    "# Image.open(img): utiliza la función Image.open de la biblioteca Pillow para intentar abrir el archivo especificado por img\n",
    "        imagen = Image.open(img)\n",
    "# si el archivo existe y se abre correctamente, se guarda en la variable imagen\n",
    "# imagenes_cargadas.append(imagen): Si la imagen se carga correctamente, se agrega al final de la lista imagenes_cargadas\n",
    "        imagenes_cargadas.append(imagen)\n",
    "# except FileNotFoundError: Si ocurre un error porque el archivo no existe (es decir, si se genera una excepción del tipo FileNotFoundError), este bloque se ejecutará\n",
    "    except FileNotFoundError:\n",
    "# imprime un mensaje de error indicando que el archivo de imagen con la ruta especificada en img no se encontró.\n",
    "# se utiliza una f-string (f\"...\") para incluir dinámicamente el valor de img en el mensaje.\n",
    "        print(f\"No se encontró la imagen: {img}\")"
   ]
  },
  {
   "cell_type": "code",
   "execution_count": 36,
   "metadata": {},
   "outputs": [],
   "source": [
    "# Carga las imágenes\n",
    "imagenes_cargadas = [Image.open(img) for img in imagenes]\n",
    "\n",
    "# Define el tamaño de cada imagen en la composición (puedes ajustarlo)\n",
    "ancho_individual = 400  # Ancho de cada imagen\n",
    "alto_individual = 300   # Alto de cada imagen\n",
    "\n",
    "# Redimensiona todas las imágenes al mismo tamaño\n",
    "imagenes_redimensionadas = [img.resize((ancho_individual, alto_individual)) for img in imagenes_cargadas]\n",
    "\n",
    "# Define el tamaño del lienzo (en este caso, un grid horizontal de 5 imágenes)\n",
    "ancho_total = ancho_individual * len(imagenes_redimensionadas)\n",
    "alto_total = alto_individual\n",
    "\n",
    "# Crea un lienzo en blanco para la composición\n",
    "composicion = Image.new(\"RGB\", (ancho_total, alto_total), color=(255, 255, 255))\n",
    "\n",
    "# Pega cada imagen en su posición correspondiente\n",
    "x_offset = 0\n",
    "for img in imagenes_redimensionadas:\n",
    "    composicion.paste(img, (x_offset, 0))\n",
    "    x_offset += ancho_individual"
   ]
  },
  {
   "cell_type": "code",
   "execution_count": 37,
   "metadata": {},
   "outputs": [
    {
     "name": "stdout",
     "output_type": "stream",
     "text": [
      "¡Composición creada y guardada como 'composicion.jpg'!\n"
     ]
    }
   ],
   "source": [
    "# Guarda la imagen compuesta\n",
    "composicion.save(\"composicion.jpg\")\n",
    "\n",
    "print(\"¡Composición creada y guardada como 'composicion.jpg'!\")"
   ]
  }
 ],
 "metadata": {
  "kernelspec": {
   "display_name": "base",
   "language": "python",
   "name": "python3"
  },
  "language_info": {
   "codemirror_mode": {
    "name": "ipython",
    "version": 3
   },
   "file_extension": ".py",
   "mimetype": "text/x-python",
   "name": "python",
   "nbconvert_exporter": "python",
   "pygments_lexer": "ipython3",
   "version": "3.12.2"
  }
 },
 "nbformat": 4,
 "nbformat_minor": 2
}
